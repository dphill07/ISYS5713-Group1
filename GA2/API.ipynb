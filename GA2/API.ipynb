{
 "cells": [
  {
   "cell_type": "markdown",
   "metadata": {},
   "source": [
    "### Install the necessary packages:"
   ]
  },
  {
   "cell_type": "code",
   "execution_count": 19,
   "metadata": {},
   "outputs": [
    {
     "name": "stdout",
     "output_type": "stream",
     "text": [
      "sqlalchemy_utils is already installed.\n",
      "Faker not found. Installing...\n",
      "Faker has been installed.\n",
      "fastapi[all] not found. Installing...\n",
      "fastapi[all] has been installed.\n"
     ]
    }
   ],
   "source": [
    "import G1_common_tools as tools\n",
    "tools.install_required_packages()"
   ]
  },
  {
   "cell_type": "markdown",
   "metadata": {},
   "source": [
    "### Set up the base of the API:"
   ]
  },
  {
   "cell_type": "code",
   "execution_count": 20,
   "metadata": {},
   "outputs": [],
   "source": [
    "from fastapi import FastAPI\n",
    "from sqlalchemy import create_engine, Column, Integer, String, ForeignKey,func\n",
    "from sqlalchemy.orm import sessionmaker, relationship, declarative_base, joinedload\n",
    "from datetime import timedelta\n",
    "import table_structures as t\n",
    "\n",
    "# Database setup\n",
    "DATABASE_URL = \"sqlite:///it_ticketing_system.db\"\n",
    "Base = declarative_base()\n",
    "engine = create_engine(DATABASE_URL)\n",
    "SessionLocal = sessionmaker(autocommit=False, autoflush=False, bind=engine)\n",
    "\n",
    "# FastAPI setup\n",
    "app = FastAPI(\n",
    "    title=\"IT Ticketing System API\",\n",
    "    description=\"API for Group 1's IT Ticketing System\",\n",
    "    version=\"0.1\",\n",
    ")"
   ]
  },
  {
   "cell_type": "markdown",
   "metadata": {},
   "source": [
    "### API Definitions:"
   ]
  },
  {
   "cell_type": "code",
   "execution_count": 21,
   "metadata": {},
   "outputs": [],
   "source": [
    "@app.get(\"/Technicians/\")\n",
    "def read_technician_names():\n",
    "    '''\n",
    "    Returns the first and last names of all the technicians\n",
    "    '''\n",
    "    db = SessionLocal()\n",
    "    query = db.query(t.User).join(t.Technician).all()\n",
    "\n",
    "    technicians = []\n",
    "    for row in query:\n",
    "        technician = row.first_name + ' ' + row.last_name\n",
    "        technicians.append(technician)\n",
    "    db.close()\n",
    "    return technicians\n",
    "\n",
    "@app.get(\"/Technicians/AvgTicketTimes/\")\n",
    "def read_technician_avg_ticket_times():\n",
    "    '''\n",
    "    TODO: Insert tooltip documentation here\n",
    "    '''\n",
    "    db = SessionLocal()\n",
    "    query = db.query(t.Technician).join(t.TicketLine).join(t.User)\n",
    "    query.all()\n",
    "    technicians = []\n",
    "    for row in query:\n",
    "        ticket_durations = []\n",
    "        for x in row.ticket_lines:\n",
    "            interval = x.completion_date_time - x.assignment_date_time\n",
    "            ticket_durations.append(interval)\n",
    "        total_seconds = sum(interval.total_seconds() for interval in ticket_durations)\n",
    "        average_seconds = total_seconds / len(ticket_durations) if ticket_durations else 0\n",
    "        average_interval = timedelta(seconds=average_seconds)\n",
    "        technician = row.user.first_name + ' ' + row.user.last_name + ' - Average Ticket Time: ' + str(average_interval)\n",
    "        technicians.append(technician)\n",
    "    db.close()\n",
    "    return technicians\n",
    "\n",
    "\n",
    "@app.get(\"/Users/TicketCounts/\")\n",
    "def read_user_ticket_counts(user_id=None):\n",
    "    '''\n",
    "    TODO: Insert tooltip documentation here\n",
    "    '''\n",
    "    db = SessionLocal()\n",
    "    query = db.query(t.User).join(t.Ticket)\n",
    "    user_data = []\n",
    "    if not user_id:\n",
    "        users = query.all()\n",
    "    else:\n",
    "        users = query.filter(t.User.user_id == user_id).all()\n",
    "\n",
    "    for row in users:\n",
    "        ticket_count = len(row.tickets)\n",
    "        user = row.first_name + ' ' + row.last_name + ' Ticket Count: ' + str(ticket_count)\n",
    "        user_data.append(user)\n",
    "\n",
    "    db.close()\n",
    "    return user_data\n",
    "\n",
    "\n",
    "@app.get(\"/Departments/AvgResolutionTimes\")\n",
    "def read_department_avg_resolution_time():\n",
    "    '''\n",
    "    TODO: Retrieve and print the average resolution times for each department.\n",
    "    '''\n",
    "    db = SessionLocal()\n",
    "    query = db.query(t.Department.name, func.avg(t.Ticket.close_date_time - t.Ticket.open_date_time).label('avg_resolution_time_minutes'))\\\n",
    "    .join(t.Ticket, t.Department.department_id == t.Ticket.department_id)\\\n",
    "    .group_by(t.Department.name)\n",
    "    \n",
    "    results = query.all()\n",
    "\n",
    "    departments = []\n",
    "    for department_name, avg_resolution_time_minutes in results:\n",
    "        departments = department_name + ' ' + avg_resolution_time_minutes\n",
    "        departments.append(departments)\n",
    "\n",
    "    db.close()\n",
    "    return departments\n",
    "\n",
    "@app.get(\"/Technicians/TicketsInfo\")\n",
    "def read_technician_ticketinfo():\n",
    "    '''\n",
    "    TODO: Retrieve and print ticket information for each technician based on technician ID.\n",
    "    '''\n",
    "    db = SessionLocal()\n",
    "\n",
    "    desired_technician_id = 1\n",
    "\n",
    "    query = db.query(t.Ticket.ticket_id, t.Ticket.subject, t.Ticket.open_date_time, t.Ticket.close_date_time)\\\n",
    "    .join(t.TicketLine, t.Ticket.ticket_id == t.TicketLine.ticket_id)\\\n",
    "    .filter(t.TicketLine.technician_id == desired_technician_id)\n",
    "    \n",
    "    results = query.all()\n",
    "\n",
    "    technicianticket = []\n",
    "    for ticket_id, subject, open_date_time, close_date_time in results:\n",
    "        technicianticket = ticket_id + ' ' + subject + ' ' + open_date_time + ' ' + close_date_time\n",
    "        technicianticket.append(technicianticket)\n",
    "\n",
    "    db.close()\n",
    "    return technicianticket\n",
    "\n",
    "@app.get(\"/Organizations/TicketCounts\")\n",
    "def read_organizations_tickets_count():\n",
    "    '''\n",
    "    TODO: Retrieve and print ticket counts for each organization.\n",
    "    '''\n",
    "    db = SessionLocal()\n",
    "\n",
    "    query = db.query(t.Organization.name, func.count(t.Ticket.ticket_id).label('ticket_count'))\\\n",
    "    .outerjoin(t.Ticket, t.Organization.organization_id == t.Ticket.organization_id)\\\n",
    "    .group_by(t.Organization.name)\n",
    "    \n",
    "    results = query.all()\n",
    "\n",
    "    organizationticket = []\n",
    "\n",
    "    for organization_name, ticket_count in results:\n",
    "        organizationticket = organization_name + ' ' + ticket_count\n",
    "        organizationticket.append(organizationticket)\n",
    "\n",
    "    db.close()\n",
    "    return organizationticket\n",
    "    "
   ]
  },
  {
   "cell_type": "markdown",
   "metadata": {},
   "source": [
    "### API Calls"
   ]
  },
  {
   "cell_type": "code",
   "execution_count": 23,
   "metadata": {},
   "outputs": [],
   "source": [
    "# read_technician_names()\n",
    "# read_technician_avg_ticket_times()\n",
    "# read_user_ticket_counts()\n",
    "# read_user_ticket_counts(1)\n",
    "# read_department_avg_resolution_time()\n",
    "# read_technician_ticketinfo()\n",
    "# read_organizations_tickets_count()\n"
   ]
  }
 ],
 "metadata": {
  "kernelspec": {
   "display_name": "Python 3",
   "language": "python",
   "name": "python3"
  },
  "language_info": {
   "codemirror_mode": {
    "name": "ipython",
    "version": 3
   },
   "file_extension": ".py",
   "mimetype": "text/x-python",
   "name": "python",
   "nbconvert_exporter": "python",
   "pygments_lexer": "ipython3",
   "version": "3.11.5"
  },
  "orig_nbformat": 4
 },
 "nbformat": 4,
 "nbformat_minor": 2
}
