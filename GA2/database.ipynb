{
 "cells": [
  {
   "cell_type": "markdown",
   "metadata": {},
   "source": [
    "## This class will hold the database creation and population work\n",
    "\n",
    "#### Install sqlalchemy_utils if they aren't already installed:"
   ]
  },
  {
   "cell_type": "code",
   "execution_count": 9,
   "metadata": {},
   "outputs": [
    {
     "name": "stdout",
     "output_type": "stream",
     "text": [
      "'sqlalchemy_utils' already in sys.modules\n"
     ]
    }
   ],
   "source": [
    "import importlib.util\n",
    "import sys\n",
    "\n",
    "name = 'sqlalchemy_utils'\n",
    "\n",
    "if name in sys.modules:\n",
    "    print(f\"{name!r} already in sys.modules\")\n",
    "elif (spec := importlib.util.find_spec(name)) is not None:\n",
    "    module = importlib.util.module_from_spec(spec)\n",
    "    sys.modules[name] = module\n",
    "    spec.loader.exec_module(module)\n",
    "    print(f\"{name!r} has been imported\")\n",
    "else:\n",
    "    print(f\"can't find the {name!r} module\")\n",
    "\n",
    "\n",
    "#If this code doesn't work as intended, just delete everything except the following string and run it: pip install sqlalchemy_utils"
   ]
  },
  {
   "cell_type": "markdown",
   "metadata": {},
   "source": [
    "#### Create the database:"
   ]
  },
  {
   "cell_type": "code",
   "execution_count": 17,
   "metadata": {},
   "outputs": [],
   "source": [
    "import sqlite3\n",
    "import sqlalchemy\n",
    "from sqlalchemy import create_engine, text\n",
    "from sqlalchemy_utils import database_exists, create_database\n",
    "\n",
    "engine = create_engine('sqlite:///it_ticketing_system.db', echo=True)\n",
    "if not database_exists(engine.url):\n",
    "    create_database(engine.url)\n",
    "\n",
    "if sqlalchemy.__version__ < '2.0.0':\n",
    "    raise ValueError('Please upgrade your version of SQLAlchemy to 2.0.0 or greater')\n"
   ]
  },
  {
   "cell_type": "markdown",
   "metadata": {},
   "source": [
    "### Using sqlite3 to alter/drop tables if they're already created."
   ]
  },
  {
   "cell_type": "code",
   "execution_count": 36,
   "metadata": {},
   "outputs": [],
   "source": [
    "import sqlite3\n",
    "db_file = 'it_ticketing_system.db'\n",
    "cnn = sqlite3.connect(db_file)\n",
    "cur = cnn.cursor()\n",
    "cur.execute(\"DROP TABLE IF EXISTS fact_tickets\")\n",
    "cur.execute(\"DROP TABLE IF EXISTS dim_departments\")\n",
    "cur.execute(\"DROP TABLE IF EXISTS dim_organizations\")\n",
    "cur.execute(\"DROP TABLE IF EXISTS fact_ticket_lines\")\n",
    "cur.execute(\"DROP TABLE IF EXISTS dim_technicians\")\n",
    "cur.execute(\"DROP TABLE IF EXISTS dim_users\")\n",
    "cnn.close()"
   ]
  },
  {
   "cell_type": "markdown",
   "metadata": {},
   "source": [
    "#### Create the tables for the database:"
   ]
  },
  {
   "cell_type": "code",
   "execution_count": null,
   "metadata": {},
   "outputs": [],
   "source": [
    "from typing import List, Optional \n",
    "from sqlalchemy import Table, Column, String, DateTime, Float, Integer, ForeignKey, MetaData\n",
    "from sqlalchemy.orm import DeclarativeBase\n",
    "from sqlalchemy.orm import Mapped\n",
    "from sqlalchemy.orm import mapped_column\n",
    "from sqlalchemy.orm import Session, relationship\n",
    "from sqlalchemy import select\n",
    "\n",
    "meta = MetaData()\n",
    "\n",
    "fact_tickets = Table(\n",
    "    'fact_tickets'\n",
    "    , meta\n",
    "    , Column('ticket_id', Integer, primary_key=True)\n",
    "    , Column('user_id', Integer, ForeignKey('dim_users.user_id'))\n",
    "    , Column('department_id', Integer, ForeignKey('dim_departments.department_id'))\n",
    "    , Column('prior_ticket_id', Integer)\n",
    "    , Column('ticket_category', String, nullable=False)\n",
    "    , Column('open_date_time', DateTime, nullable=False)\n",
    "    , Column('close_date_time', DateTime)\n",
    "    , Column('status', String)\n",
    "    , Column('description', String, nullable=False)\n",
    "    , Column('subject', String, nullable=False)\n",
    ")\n",
    "\n",
    "fact_ticket_lines = Table(\n",
    "    'fact_ticket_lines'\n",
    "    , meta\n",
    "    , Column('ticket_line_id', Integer, primary_key=True)\n",
    "    , Column('ticket_id', Integer, ForeignKey('fact_tickets.ticket_id'))\n",
    "    , Column('technician_id', Integer, ForeignKey('dim_users.user_id'))\n",
    "    , Column('assignment_date_time', DateTime, nullable=False)\n",
    "    , Column('completion_date_time', DateTime)\n",
    "    , Column('notes', String)\n",
    ")\n",
    "\n",
    "dim_technicians = Table(\n",
    "    'dim_technicians'\n",
    "    , meta\n",
    "    , Column('technician_id', Integer, primary_key=True)\n",
    "    , Column('user_id', Integer, ForeignKey('dim_users.user_id'))\n",
    "    , Column('manager_id', Integer)\n",
    ")\n",
    "\n",
    "dim_users = Table(\n",
    "    'dim_users'\n",
    "    , meta\n",
    "    , Column('user_id', Integer, primary_key=True)\n",
    "    , Column('organization_id', Integer, ForeignKey('dim_organizations.organization_id'))\n",
    "    , Column('department_id', Integer, ForeignKey('dim_departments.department_id'))\n",
    "    , Column('last_name', String, nullable=False)\n",
    "    , Column('first_name', String, nullable=False)\n",
    "    , Column('phone_number', String)\n",
    "    , Column('email_address', String, nullable=False)\n",
    "    , Column('title', String)\n",
    ")\n",
    "\n",
    "dim_departments = Table(\n",
    "    'dim_departments'\n",
    "    , meta\n",
    "    , Column('department_id', Integer, primary_key=True)\n",
    "    , Column('organization_id', Integer, ForeignKey('dim_organizations.organization_id'))\n",
    "    , Column('name', String, nullable=False)\n",
    "    , Column('phone_number', String)\n",
    "    , Column('email_address', String, nullable=False)\n",
    ")\n",
    "\n",
    "dim_organizations = Table(\n",
    "    'dim_organizations'\n",
    "    , meta\n",
    "    , Column('organization_id', Integer, primary_key=True)\n",
    "    , Column('name', String, nullable=False)\n",
    "    , Column('phone_number', String)\n",
    "    , Column('email_address', String, nullable=False)\n",
    "    , Column('state', String, nullable=False)\n",
    "    , Column('city', String, nullable=False)\n",
    "    , Column('zip_code', Integer, nullable=False)\n",
    "    , Column('street_address', String, nullable=False)\n",
    ")\n",
    "\n",
    "\n",
    "meta.create_all(engine)"
   ]
  },
  {
   "cell_type": "markdown",
   "metadata": {},
   "source": [
    "#### Initial Database Definitions:"
   ]
  },
  {
   "cell_type": "code",
   "execution_count": null,
   "metadata": {},
   "outputs": [],
   "source": [
    "db_file = 'it_ticketing_system.db'\n",
    "cnn = sqlite3.connect(db_file)\n",
    "cur = cnn.cursor()\n",
    "tables = cur.execute(\"SELECT name FROM sqlite_master WHERE type='table';\").fetchall()\n",
    "\n",
    "def bool_to_yes_no(value):\n",
    "    if value == 0:\n",
    "        return 'NO'\n",
    "    elif value == 1:\n",
    "        return 'YES'\n",
    "\n",
    "for table in tables:\n",
    "    print('------------------')\n",
    "    print('Table Name: ' + table[0])\n",
    "    print('------------------')\n",
    "    columns = cur.execute(f'PRAGMA table_info(\\'%s\\');' % table[0]).fetchall()\n",
    "    for column in columns:\n",
    "        col_id, col_name, col_type, col_notnull, col_default, col_pk = column\n",
    "        print(f\"  Column: {col_name}\")\n",
    "        print(f\"    Type: {col_type}\")\n",
    "        print(f\"    Not Null: {bool_to_yes_no(col_notnull)}\")\n",
    "        print(f\"    Default Value: {col_default}\")\n",
    "        print(f\"    Primary Key: {bool_to_yes_no(col_pk)}\")\n",
    "\n",
    "cnn.close()"
   ]
  }
 ],
 "metadata": {
  "kernelspec": {
   "display_name": "Python 3",
   "language": "python",
   "name": "python3"
  },
  "language_info": {
   "codemirror_mode": {
    "name": "ipython",
    "version": 3
   },
   "file_extension": ".py",
   "mimetype": "text/x-python",
   "name": "python",
   "nbconvert_exporter": "python",
   "pygments_lexer": "ipython3",
   "version": "3.11.5"
  },
  "orig_nbformat": 4
 },
 "nbformat": 4,
 "nbformat_minor": 2
}
