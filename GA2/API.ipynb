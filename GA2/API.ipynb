{
 "cells": [
  {
   "cell_type": "markdown",
   "metadata": {},
   "source": [
    "### Install the necessary packages:"
   ]
  },
  {
   "cell_type": "code",
   "execution_count": 16,
   "metadata": {},
   "outputs": [
    {
     "name": "stdout",
     "output_type": "stream",
     "text": [
      "sqlalchemy_utils is already installed.\n",
      "Faker not found. Installing...\n",
      "Faker has been installed.\n",
      "fastapi[all] not found. Installing...\n",
      "fastapi[all] has been installed.\n"
     ]
    }
   ],
   "source": [
    "import G1_common_tools as tools\n",
    "tools.install_required_packages()"
   ]
  },
  {
   "cell_type": "markdown",
   "metadata": {},
   "source": [
    "### Set up the base of the API:"
   ]
  },
  {
   "cell_type": "code",
   "execution_count": 17,
   "metadata": {},
   "outputs": [],
   "source": [
    "from fastapi import FastAPI\n",
    "from sqlalchemy import create_engine, Column, Integer, String, ForeignKey,func\n",
    "from sqlalchemy.orm import sessionmaker, relationship, declarative_base, joinedload\n",
    "from datetime import timedelta\n",
    "import table_structures as t\n",
    "\n",
    "# Database setup\n",
    "DATABASE_URL = \"sqlite:///it_ticketing_system.db\"\n",
    "Base = declarative_base()\n",
    "engine = create_engine(DATABASE_URL)\n",
    "SessionLocal = sessionmaker(autocommit=False, autoflush=False, bind=engine)\n",
    "\n",
    "# FastAPI setup\n",
    "app = FastAPI(\n",
    "    title=\"IT Ticketing System API\",\n",
    "    description=\"API for Group 1's IT Ticketing System\",\n",
    "    version=\"0.1\",\n",
    ")"
   ]
  },
  {
   "cell_type": "markdown",
   "metadata": {},
   "source": [
    "### API Definitions:"
   ]
  },
  {
   "cell_type": "code",
   "execution_count": 18,
   "metadata": {},
   "outputs": [],
   "source": [
    "@app.get(\"/Technicians/\")\n",
    "def read_technician_names():\n",
    "    '''\n",
    "    Returns the first and last names of all the technicians\n",
    "    '''\n",
    "    db = SessionLocal()\n",
    "    query = db.query(t.User).join(t.Technician).all()\n",
    "\n",
    "    technicians = []\n",
    "    for row in query:\n",
    "        technician = row.first_name + ' ' + row.last_name\n",
    "        technicians.append(technician)\n",
    "    db.close()\n",
    "    return technicians\n",
    "\n",
    "@app.get(\"/Technicians/AvgTicketTimes/\")\n",
    "def read_technician_avg_ticket_times():\n",
    "    '''\n",
    "    TODO: Insert tooltip documentation here\n",
    "    '''\n",
    "    db = SessionLocal()\n",
    "    query = db.query(t.Technician).join(t.TicketLine).join(t.User)\n",
    "    query.all()\n",
    "    technicians = []\n",
    "    for row in query:\n",
    "        ticket_durations = []\n",
    "        for x in row.ticket_lines:\n",
    "            interval = x.completion_date_time - x.assignment_date_time\n",
    "            ticket_durations.append(interval)\n",
    "        total_seconds = sum(interval.total_seconds() for interval in ticket_durations)\n",
    "        average_seconds = total_seconds / len(ticket_durations) if ticket_durations else 0\n",
    "        average_interval = timedelta(seconds=average_seconds)\n",
    "        technician = row.user.first_name + ' ' + row.user.last_name + ' - Average Ticket Time: ' + str(average_interval)\n",
    "        technicians.append(technician)\n",
    "    db.close()\n",
    "    return technicians\n",
    "\n",
    "\n",
    "@app.get(\"/Users/TicketCounts/\")\n",
    "def read_user_ticket_counts(user_id=None):\n",
    "    '''\n",
    "    TODO: Insert tooltip documentation here\n",
    "    '''\n",
    "    db = SessionLocal()\n",
    "    query = db.query(t.User).join(t.Ticket)\n",
    "    user_data = []\n",
    "    if not user_id:\n",
    "        users = query.all()\n",
    "    else:\n",
    "        users = query.filter(t.User.user_id == user_id).all()\n",
    "\n",
    "    for row in users:\n",
    "        ticket_count = len(row.tickets)\n",
    "        user = row.first_name + ' ' + row.last_name + ' Ticket Count: ' + str(ticket_count)\n",
    "        user_data.append(user)\n",
    "\n",
    "    db.close()\n",
    "    return user_data\n",
    "\n",
    "\n",
    "@app.get(\"/Departments/AvgResolutionTimes\")\n",
    "def read_department_avg_resolution_time():\n",
    "    '''\n",
    "    TODO: Retrieve and print the average resolution times for each department.\n",
    "    '''\n",
    "    db = SessionLocal()\n",
    "    query = db.query(t.Department.name, func.avg(t.Ticket.close_date_time - t.Ticket.open_date_time).label('avg_resolution_time_minutes'))\\\n",
    "    .join(t.Ticket, t.Department.department_id == t.Ticket.department_id)\\\n",
    "    .group_by(t.Department.name)\n",
    "    \n",
    "    results = query.all()\n",
    "\n",
    "    departments = []\n",
    "    for department_name, avg_resolution_time_minutes in results:\n",
    "        departments = department_name + ' ' + avg_resolution_time_minutes\n",
    "        departments.append(departments)\n",
    "\n",
    "    db.close()\n",
    "    return departments\n",
    "\n",
    "@app.get(\"/Technicians/TicketsInfo\")\n",
    "def read_technician_ticketinfo():\n",
    "    '''\n",
    "    TODO: Retrieve and print ticket information for each technician based on technician ID.\n",
    "    '''\n",
    "    db = SessionLocal()\n",
    "\n",
    "    desired_technician_id = 1\n",
    "\n",
    "    query = db.query(t.Ticket.ticket_id, t.Ticket.subject, t.Ticket.open_date_time, t.Ticket.close_date_time)\\\n",
    "    .join(t.TicketLine, t.Ticket.ticket_id == t.TicketLine.ticket_id)\\\n",
    "    .filter(t.TicketLine.technician_id == desired_technician_id)\n",
    "    \n",
    "    results = query.all()\n",
    "\n",
    "    technicianticket = []\n",
    "    for ticket_id, subject, open_date_time, close_date_time in results:\n",
    "        technicianticket = ticket_id + ' ' + subject + ' ' + open_date_time + ' ' + close_date_time\n",
    "        technicianticket.append(technicianticket)\n",
    "\n",
    "    db.close()\n",
    "    return technicianticket\n",
    "\n",
    "@app.get(\"/Organizations/TicketCounts\")\n",
    "def read_organizations_tickets_count():\n",
    "    '''\n",
    "    TODO: Retrieve and print ticket counts for each organization.\n",
    "    '''\n",
    "    db = SessionLocal()\n",
    "\n",
    "    query = db.query(t.Organization.name, func.count(t.Ticket.ticket_id).label('ticket_count'))\\\n",
    "    .outerjoin(t.Ticket, t.Organization.organization_id == t.Ticket.organization_id)\\\n",
    "    .group_by(t.Organization.name)\n",
    "    \n",
    "    results = query.all()\n",
    "\n",
    "    organizationticket = []\n",
    "\n",
    "    for organization_name, ticket_count in results:\n",
    "        organizationticket = organization_name + ' ' + ticket_count\n",
    "        organizationticket.append(organizationticket)\n",
    "\n",
    "    db.close()\n",
    "    return organizationticket\n",
    "    "
   ]
  },
  {
   "cell_type": "markdown",
   "metadata": {},
   "source": [
    "### API Calls"
   ]
  },
  {
   "cell_type": "code",
   "execution_count": 19,
   "metadata": {},
   "outputs": [
    {
     "name": "stdout",
     "output_type": "stream",
     "text": [
      "['Charles Spears', 'Emily Cobb', 'Joshua Rivers']\n",
      "['Emily Cobb - Average Ticket Time: 28 days, 20:18:17.483333', 'Joshua Rivers - Average Ticket Time: 21 days, 18:30:20.335092', 'Charles Spears - Average Ticket Time: -58 days, 3:29:10.750000']\n",
      "['Glen Roberts Ticket Count: 3', 'David Russo Ticket Count: 2', 'Kyle Bates Ticket Count: 4', 'Michael Smith Ticket Count: 5', 'Kimberly Gilmore Ticket Count: 4', 'Emily Cobb Ticket Count: 4', 'Michael Marquez Ticket Count: 5', 'Tabitha Baird Ticket Count: 2', 'Shelly Newton Ticket Count: 3', 'Vincent Mack Ticket Count: 1', 'Robert Stephens Ticket Count: 1', 'Mark Freeman Ticket Count: 4', 'Rodney Anderson Ticket Count: 2', 'Kerry Mann Ticket Count: 3', 'Christopher Ferguson Ticket Count: 3', 'Michelle Bradford Ticket Count: 1', 'Brian Smith Ticket Count: 4', 'Troy Perez Ticket Count: 5', 'James Hernandez Ticket Count: 3', 'Rebecca Brown Ticket Count: 1', 'Amanda Gill Ticket Count: 4', 'Crystal Owens Ticket Count: 5', 'Frederick Williams Ticket Count: 3', 'James Green Ticket Count: 4', 'Allen Hall Ticket Count: 1', 'Shaun Farrell Ticket Count: 4', 'Amber Wells Ticket Count: 2', 'Mathew Downs Ticket Count: 5', 'Maurice Sims Ticket Count: 2', 'Brianna Ramsey Ticket Count: 2', 'Karl Ford Ticket Count: 1', 'Stephen Li Ticket Count: 1', 'Michael Davis Ticket Count: 4', 'Erica Johnson Ticket Count: 1', 'Adrian Lewis Ticket Count: 5', 'Donald Abbott Ticket Count: 2', 'William Taylor Ticket Count: 1', 'Sharon Torres Ticket Count: 5', 'Erin Curry Ticket Count: 4', 'Allen Wolf Ticket Count: 5', 'Pamela Haynes Ticket Count: 1', 'Jeremy Cantu Ticket Count: 5', 'Michael Marquez Ticket Count: 2', 'Michele Harrison Ticket Count: 3', 'Travis Martin Ticket Count: 3', 'Joshua Rivers Ticket Count: 3', 'Alison Armstrong Ticket Count: 3', 'Sharon Rodriguez Ticket Count: 5', 'Adam Ward Ticket Count: 5', 'Yolanda Martin Ticket Count: 3', 'Ronald Mann Ticket Count: 3', 'Jason Wise Ticket Count: 2', 'Jennifer Jackson Ticket Count: 3', 'Jesse Johnson Ticket Count: 4', 'Rebecca Wiggins Ticket Count: 2', 'Jeffrey Peters Ticket Count: 4', 'Brian Young Ticket Count: 2', 'Timothy Davis Ticket Count: 5', 'Jessica Butler Ticket Count: 3', 'Bobby Wyatt Ticket Count: 2', 'Austin Smith Ticket Count: 4', 'Susan Barton Ticket Count: 3', 'Daniel Vega Ticket Count: 1', 'Kenneth Harrison Ticket Count: 3', 'Crystal Ingram Ticket Count: 1', 'Drew Gonzales Ticket Count: 4', 'Gabrielle Huang Ticket Count: 2', 'Cindy Burton Ticket Count: 5', 'Marissa Murray Ticket Count: 3', 'Juan Mendez Ticket Count: 5', 'Kristopher Kelly Ticket Count: 5', 'Krista Bautista Ticket Count: 1', 'Kristen Moss Ticket Count: 1', 'David Arnold Ticket Count: 5', 'Emily Davis Ticket Count: 1', 'Dale Lewis Ticket Count: 5', 'Taylor Petersen Ticket Count: 5', 'Heidi Jones Ticket Count: 5', 'Raymond Taylor Ticket Count: 2', 'Mary West Ticket Count: 1', 'Richard Turner Ticket Count: 2', 'Judith Murray Ticket Count: 2', 'Frances Dean Ticket Count: 5', 'Kara Mayer Ticket Count: 5', 'Chris Moore Ticket Count: 3', 'Brandon Schneider Ticket Count: 2', 'Anthony Thompson Ticket Count: 2', 'David Reed Ticket Count: 4', 'Sonya Williams Ticket Count: 3', 'Elizabeth Sullivan Ticket Count: 4', 'Sherri Griffith Ticket Count: 1', 'Julia Oliver Ticket Count: 2', 'Cameron Cross Ticket Count: 1', 'William Nguyen Ticket Count: 1', 'Thomas Hansen Ticket Count: 2', 'Anthony Reese Ticket Count: 2', 'William Fowler Ticket Count: 3', 'Jessica Castro Ticket Count: 2', 'Carrie Hoffman Ticket Count: 1', 'Brandon Flowers Ticket Count: 1', 'Nancy Mills Ticket Count: 3', 'Karen Smith Ticket Count: 2', 'Christopher Short Ticket Count: 1', 'Jose Jackson Ticket Count: 3', 'Nicholas Mckee Ticket Count: 4', 'Ronald Peters Ticket Count: 5', 'Teresa Harper Ticket Count: 3', 'Laura Smith Ticket Count: 1', 'Ellen Foster Ticket Count: 1', 'Stacy Wilson Ticket Count: 5', 'Rebecca Wallace Ticket Count: 4', 'Christina Levine Ticket Count: 3', 'Lori Alexander Ticket Count: 1', 'Debra Schwartz Ticket Count: 4', 'Eric Serrano Ticket Count: 1', 'Eric Cooper Ticket Count: 1', 'Timothy Rollins Ticket Count: 1', 'Joseph Brown Ticket Count: 2', 'Stephanie Gomez Ticket Count: 3', 'Kevin Silva Ticket Count: 2', 'Samuel Duncan Ticket Count: 5', 'William Smith Ticket Count: 4', 'Melissa Hawkins Ticket Count: 2', 'Vanessa Odom Ticket Count: 1', 'Dean Orozco Ticket Count: 1']\n",
      "['Glen Roberts Ticket Count: 3']\n"
     ]
    },
    {
     "ename": "TypeError",
     "evalue": "can only concatenate str (not \"float\") to str",
     "output_type": "error",
     "traceback": [
      "\u001b[1;31m---------------------------------------------------------------------------\u001b[0m",
      "\u001b[1;31mTypeError\u001b[0m                                 Traceback (most recent call last)",
      "\u001b[1;32mc:\\Users\\derek\\OneDrive - University of Arkansas\\Classes\\08_ISYS 5713 - SEMINAR IN IS TOPICS\\General\\Git Repositories\\ISYS5713-Group1\\GA2\\API.ipynb Cell 8\u001b[0m line \u001b[0;36m5\n\u001b[0;32m      <a href='vscode-notebook-cell:/c%3A/Users/derek/OneDrive%20-%20University%20of%20Arkansas/Classes/08_ISYS%205713%20-%20SEMINAR%20IN%20IS%20TOPICS/General/Git%20Repositories/ISYS5713-Group1/GA2/API.ipynb#X10sZmlsZQ%3D%3D?line=2'>3</a>\u001b[0m \u001b[39mprint\u001b[39m(read_user_ticket_counts())\n\u001b[0;32m      <a href='vscode-notebook-cell:/c%3A/Users/derek/OneDrive%20-%20University%20of%20Arkansas/Classes/08_ISYS%205713%20-%20SEMINAR%20IN%20IS%20TOPICS/General/Git%20Repositories/ISYS5713-Group1/GA2/API.ipynb#X10sZmlsZQ%3D%3D?line=3'>4</a>\u001b[0m \u001b[39mprint\u001b[39m(read_user_ticket_counts(\u001b[39m1\u001b[39m))\n\u001b[1;32m----> <a href='vscode-notebook-cell:/c%3A/Users/derek/OneDrive%20-%20University%20of%20Arkansas/Classes/08_ISYS%205713%20-%20SEMINAR%20IN%20IS%20TOPICS/General/Git%20Repositories/ISYS5713-Group1/GA2/API.ipynb#X10sZmlsZQ%3D%3D?line=4'>5</a>\u001b[0m \u001b[39mprint\u001b[39m(read_department_avg_resolution_time())\n\u001b[0;32m      <a href='vscode-notebook-cell:/c%3A/Users/derek/OneDrive%20-%20University%20of%20Arkansas/Classes/08_ISYS%205713%20-%20SEMINAR%20IN%20IS%20TOPICS/General/Git%20Repositories/ISYS5713-Group1/GA2/API.ipynb#X10sZmlsZQ%3D%3D?line=5'>6</a>\u001b[0m \u001b[39mprint\u001b[39m(read_technician_ticketinfo())\n\u001b[0;32m      <a href='vscode-notebook-cell:/c%3A/Users/derek/OneDrive%20-%20University%20of%20Arkansas/Classes/08_ISYS%205713%20-%20SEMINAR%20IN%20IS%20TOPICS/General/Git%20Repositories/ISYS5713-Group1/GA2/API.ipynb#X10sZmlsZQ%3D%3D?line=6'>7</a>\u001b[0m \u001b[39mprint\u001b[39m(read_organizations_tickets_count())\n",
      "\u001b[1;32mc:\\Users\\derek\\OneDrive - University of Arkansas\\Classes\\08_ISYS 5713 - SEMINAR IN IS TOPICS\\General\\Git Repositories\\ISYS5713-Group1\\GA2\\API.ipynb Cell 8\u001b[0m line \u001b[0;36m7\n\u001b[0;32m     <a href='vscode-notebook-cell:/c%3A/Users/derek/OneDrive%20-%20University%20of%20Arkansas/Classes/08_ISYS%205713%20-%20SEMINAR%20IN%20IS%20TOPICS/General/Git%20Repositories/ISYS5713-Group1/GA2/API.ipynb#X10sZmlsZQ%3D%3D?line=72'>73</a>\u001b[0m departments \u001b[39m=\u001b[39m []\n\u001b[0;32m     <a href='vscode-notebook-cell:/c%3A/Users/derek/OneDrive%20-%20University%20of%20Arkansas/Classes/08_ISYS%205713%20-%20SEMINAR%20IN%20IS%20TOPICS/General/Git%20Repositories/ISYS5713-Group1/GA2/API.ipynb#X10sZmlsZQ%3D%3D?line=73'>74</a>\u001b[0m \u001b[39mfor\u001b[39;00m department_name, avg_resolution_time_minutes \u001b[39min\u001b[39;00m results:\n\u001b[1;32m---> <a href='vscode-notebook-cell:/c%3A/Users/derek/OneDrive%20-%20University%20of%20Arkansas/Classes/08_ISYS%205713%20-%20SEMINAR%20IN%20IS%20TOPICS/General/Git%20Repositories/ISYS5713-Group1/GA2/API.ipynb#X10sZmlsZQ%3D%3D?line=74'>75</a>\u001b[0m     departments \u001b[39m=\u001b[39m department_name \u001b[39m+\u001b[39;49m \u001b[39m'\u001b[39;49m\u001b[39m \u001b[39;49m\u001b[39m'\u001b[39;49m \u001b[39m+\u001b[39;49m avg_resolution_time_minutes\n\u001b[0;32m     <a href='vscode-notebook-cell:/c%3A/Users/derek/OneDrive%20-%20University%20of%20Arkansas/Classes/08_ISYS%205713%20-%20SEMINAR%20IN%20IS%20TOPICS/General/Git%20Repositories/ISYS5713-Group1/GA2/API.ipynb#X10sZmlsZQ%3D%3D?line=75'>76</a>\u001b[0m     departments\u001b[39m.\u001b[39mappend(departments)\n\u001b[0;32m     <a href='vscode-notebook-cell:/c%3A/Users/derek/OneDrive%20-%20University%20of%20Arkansas/Classes/08_ISYS%205713%20-%20SEMINAR%20IN%20IS%20TOPICS/General/Git%20Repositories/ISYS5713-Group1/GA2/API.ipynb#X10sZmlsZQ%3D%3D?line=77'>78</a>\u001b[0m db\u001b[39m.\u001b[39mclose()\n",
      "\u001b[1;31mTypeError\u001b[0m: can only concatenate str (not \"float\") to str"
     ]
    }
   ],
   "source": [
    "print(read_technician_names())\n",
    "print(read_technician_avg_ticket_times())\n",
    "print(read_user_ticket_counts())\n",
    "print(read_user_ticket_counts(1))\n",
    "print(read_department_avg_resolution_time())\n",
    "print(read_technician_ticketinfo())\n",
    "print(read_organizations_tickets_count())\n"
   ]
  }
 ],
 "metadata": {
  "kernelspec": {
   "display_name": "Python 3",
   "language": "python",
   "name": "python3"
  },
  "language_info": {
   "codemirror_mode": {
    "name": "ipython",
    "version": 3
   },
   "file_extension": ".py",
   "mimetype": "text/x-python",
   "name": "python",
   "nbconvert_exporter": "python",
   "pygments_lexer": "ipython3",
   "version": "3.11.6"
  },
  "orig_nbformat": 4
 },
 "nbformat": 4,
 "nbformat_minor": 2
}
